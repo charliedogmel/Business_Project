{
 "cells": [
  {
   "cell_type": "markdown",
   "metadata": {},
   "source": [
    "# Business Fundamentals"
   ]
  },
  {
   "cell_type": "markdown",
   "metadata": {},
   "source": [
    "# Question/need:"
   ]
  },
  {
   "cell_type": "markdown",
   "metadata": {},
   "source": [
    "### What is the framing question of your analysis, or the purpose of the model/system you plan to build?"
   ]
  },
  {
   "cell_type": "markdown",
   "metadata": {},
   "source": [
    "What investments in solar panel adaptation will help with climate adaptation while also addressing environmental justice?"
   ]
  },
  {
   "cell_type": "markdown",
   "metadata": {},
   "source": [
    "### Who benefits from exploring this question or building this model/system?"
   ]
  },
  {
   "cell_type": "markdown",
   "metadata": {},
   "source": [
    "- Companies looking for socially-responsible investment opportunies \n",
    "- Towns/cities looking to invest in their communities\n",
    "- Areas that need alternatives to coal/gas power plants\n",
    "- Mega-companies needing a charitable contribution to their communities\n",
    "\n",
    "All of the above should be able to take advantage of government incentives."
   ]
  },
  {
   "cell_type": "markdown",
   "metadata": {},
   "source": [
    "# Data Description:"
   ]
  },
  {
   "cell_type": "markdown",
   "metadata": {},
   "source": [
    "### What dataset(s) do you plan to use, and how will you obtain the data?"
   ]
  },
  {
   "cell_type": "markdown",
   "metadata": {},
   "source": [
    "Google Project Sunroof data explorer is a publicly available dataset that shows solar potential and impact for portions of the US.\n",
    "\n",
    "DeepSolar by Stanford is a publicly available database of solar installations in the contiguous US and includes socioeconomic characteristics, location, size, and type information for each recorded solar power system.\n",
    "\n",
    "Both datasets area easily downloaded into csv format along with the metadata."
   ]
  },
  {
   "cell_type": "markdown",
   "metadata": {},
   "source": [
    "### What is an individual sample/unit of analysis in this project? What characteristics/features do you expect to work with?"
   ]
  },
  {
   "cell_type": "markdown",
   "metadata": {},
   "source": [
    "I will work with region, number of buildings suitable for solar, number of buildings that already have solar, solar energy generation potential, potential CO2 abatement, education level, household income, electricity rate, latitude, longitude."
   ]
  },
  {
   "cell_type": "markdown",
   "metadata": {},
   "source": [
    "### If modeling, what will you predict as your target?"
   ]
  },
  {
   "cell_type": "markdown",
   "metadata": {},
   "source": [
    "Predict the economic and environmental benefits to a high solar adoption rate."
   ]
  },
  {
   "cell_type": "markdown",
   "metadata": {},
   "source": [
    "# Tools:"
   ]
  },
  {
   "cell_type": "markdown",
   "metadata": {},
   "source": [
    "### How do you intend to meet the tools requirement of the project?"
   ]
  },
  {
   "cell_type": "markdown",
   "metadata": {},
   "source": [
    "Use Google Sheets and Tableau for EDA and Tableau for visualization."
   ]
  },
  {
   "cell_type": "markdown",
   "metadata": {},
   "source": [
    "### Are you planning in advance to need or use additional tools beyond those required?"
   ]
  },
  {
   "cell_type": "markdown",
   "metadata": {},
   "source": [
    "No"
   ]
  },
  {
   "cell_type": "markdown",
   "metadata": {},
   "source": [
    "# MVP Goal:"
   ]
  },
  {
   "cell_type": "markdown",
   "metadata": {},
   "source": [
    "### What would a minimum viable product (MVP) look like for this project?"
   ]
  },
  {
   "cell_type": "markdown",
   "metadata": {},
   "source": [
    "Some exploratory plots and a preliminary presentation."
   ]
  }
 ],
 "metadata": {
  "kernelspec": {
   "display_name": "Python 3",
   "language": "python",
   "name": "python3"
  },
  "language_info": {
   "codemirror_mode": {
    "name": "ipython",
    "version": 3
   },
   "file_extension": ".py",
   "mimetype": "text/x-python",
   "name": "python",
   "nbconvert_exporter": "python",
   "pygments_lexer": "ipython3",
   "version": "3.8.5"
  }
 },
 "nbformat": 4,
 "nbformat_minor": 5
}
